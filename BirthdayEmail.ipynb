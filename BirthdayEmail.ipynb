{
 "cells": [
  {
   "cell_type": "code",
   "execution_count": 893,
   "metadata": {},
   "outputs": [],
   "source": [
    "import win32com.client as client\n",
    "import datetime\n",
    "import pandas as pd\n",
    "import random,os"
   ]
  },
  {
   "cell_type": "code",
   "execution_count": 894,
   "metadata": {},
   "outputs": [],
   "source": [
    "outlook=client.Dispatch(\"Outlook.Application\")"
   ]
  },
  {
   "cell_type": "code",
   "execution_count": 895,
   "metadata": {},
   "outputs": [],
   "source": [
    "df=pd.read_excel('Associtates_dateofbirth.xlsx')"
   ]
  },
  {
   "cell_type": "code",
   "execution_count": 896,
   "metadata": {},
   "outputs": [],
   "source": [
    "current_date = str(datetime.date.today()).split('-',1)\n",
    "key=list(df['Email_Name'])\n",
    "value=list(df['Date'].dt.strftime('%m-%d'))\n",
    "model=dict(zip(key,value))\n",
    "for key,value in model.items():\n",
    "    if value==current_date[1]:\n",
    "        msg=outlook.CreateItem(0)\n",
    "        msg.Display()\n",
    "        msg.To=key\n",
    "        subject=list(key.split('.',1))\n",
    "        subject=str(subject[0])\n",
    "        msg.Subject='Happy Birthday '+subject.capitalize()\n",
    "        msg.Body='Tested successfully'\n",
    "        path = \"C://Users//vaddepav//Desktop//images\"\n",
    "        random_filename = random.choice([\n",
    "            x for x in os.listdir(path)\n",
    "            if os.path.isfile(os.path.join(path, x))\n",
    "            ])\n",
    "        Image=\"<html><body><br><center><img src='C://Users//vaddepav//Desktop//images//\"+random_filename+\"'></center><p>Best Wishes 🎉 🎉,<br> Team Birthday Bash.</p></body></html>\"\n",
    "        msg.HtmlBody=Image\n",
    "        msg.Save()\n",
    "        msg.Send()      "
   ]
  },
  {
   "cell_type": "code",
   "execution_count": null,
   "metadata": {},
   "outputs": [],
   "source": []
  }
 ],
 "metadata": {
  "kernelspec": {
   "display_name": "Python 3",
   "language": "python",
   "name": "python3"
  },
  "language_info": {
   "codemirror_mode": {
    "name": "ipython",
    "version": 3
   },
   "file_extension": ".py",
   "mimetype": "text/x-python",
   "name": "python",
   "nbconvert_exporter": "python",
   "pygments_lexer": "ipython3",
   "version": "3.7.6"
  }
 },
 "nbformat": 4,
 "nbformat_minor": 4
}
